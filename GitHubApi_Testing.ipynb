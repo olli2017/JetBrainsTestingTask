{
  "nbformat": 4,
  "nbformat_minor": 0,
  "metadata": {
    "colab": {
      "name": "GitHubApi-Testing.ipynb",
      "provenance": [],
      "collapsed_sections": []
    },
    "kernelspec": {
      "name": "python3",
      "display_name": "Python 3"
    }
  },
  "cells": [
    {
      "cell_type": "code",
      "metadata": {
        "id": "zpdkHeKzdgs-",
        "colab_type": "code",
        "colab": {
          "base_uri": "https://localhost:8080/",
          "height": 277
        },
        "outputId": "dc6d2a55-8876-49f7-b5c5-4745544688d2"
      },
      "source": [
        "!pip install PyGithub"
      ],
      "execution_count": null,
      "outputs": [
        {
          "output_type": "stream",
          "text": [
            "Collecting PyGithub\n",
            "\u001b[?25l  Downloading https://files.pythonhosted.org/packages/86/87/8ce81695f851697d4112f4c0ce43346b7b0ca52ea6b9e81e65bfedb82f4a/PyGithub-1.53-py3-none-any.whl (274kB)\n",
            "\r\u001b[K     |█▏                              | 10kB 18.7MB/s eta 0:00:01\r\u001b[K     |██▍                             | 20kB 1.7MB/s eta 0:00:01\r\u001b[K     |███▋                            | 30kB 2.2MB/s eta 0:00:01\r\u001b[K     |████▊                           | 40kB 2.5MB/s eta 0:00:01\r\u001b[K     |██████                          | 51kB 1.9MB/s eta 0:00:01\r\u001b[K     |███████▏                        | 61kB 2.2MB/s eta 0:00:01\r\u001b[K     |████████▍                       | 71kB 2.5MB/s eta 0:00:01\r\u001b[K     |█████████▌                      | 81kB 2.7MB/s eta 0:00:01\r\u001b[K     |██████████▊                     | 92kB 2.8MB/s eta 0:00:01\r\u001b[K     |████████████                    | 102kB 2.7MB/s eta 0:00:01\r\u001b[K     |█████████████                   | 112kB 2.7MB/s eta 0:00:01\r\u001b[K     |██████████████▎                 | 122kB 2.7MB/s eta 0:00:01\r\u001b[K     |███████████████▌                | 133kB 2.7MB/s eta 0:00:01\r\u001b[K     |████████████████▊               | 143kB 2.7MB/s eta 0:00:01\r\u001b[K     |█████████████████▉              | 153kB 2.7MB/s eta 0:00:01\r\u001b[K     |███████████████████             | 163kB 2.7MB/s eta 0:00:01\r\u001b[K     |████████████████████▎           | 174kB 2.7MB/s eta 0:00:01\r\u001b[K     |█████████████████████▌          | 184kB 2.7MB/s eta 0:00:01\r\u001b[K     |██████████████████████▋         | 194kB 2.7MB/s eta 0:00:01\r\u001b[K     |███████████████████████▉        | 204kB 2.7MB/s eta 0:00:01\r\u001b[K     |█████████████████████████       | 215kB 2.7MB/s eta 0:00:01\r\u001b[K     |██████████████████████████▏     | 225kB 2.7MB/s eta 0:00:01\r\u001b[K     |███████████████████████████▍    | 235kB 2.7MB/s eta 0:00:01\r\u001b[K     |████████████████████████████▋   | 245kB 2.7MB/s eta 0:00:01\r\u001b[K     |█████████████████████████████▉  | 256kB 2.7MB/s eta 0:00:01\r\u001b[K     |███████████████████████████████ | 266kB 2.7MB/s eta 0:00:01\r\u001b[K     |████████████████████████████████| 276kB 2.7MB/s \n",
            "\u001b[?25hCollecting deprecated\n",
            "  Downloading https://files.pythonhosted.org/packages/76/a1/05d7f62f956d77b23a640efc650f80ce24483aa2f85a09c03fb64f49e879/Deprecated-1.2.10-py2.py3-none-any.whl\n",
            "Requirement already satisfied: requests>=2.14.0 in /usr/local/lib/python3.6/dist-packages (from PyGithub) (2.23.0)\n",
            "Collecting pyjwt\n",
            "  Downloading https://files.pythonhosted.org/packages/87/8b/6a9f14b5f781697e51259d81657e6048fd31a113229cf346880bb7545565/PyJWT-1.7.1-py2.py3-none-any.whl\n",
            "Requirement already satisfied: wrapt<2,>=1.10 in /usr/local/lib/python3.6/dist-packages (from deprecated->PyGithub) (1.12.1)\n",
            "Requirement already satisfied: certifi>=2017.4.17 in /usr/local/lib/python3.6/dist-packages (from requests>=2.14.0->PyGithub) (2020.6.20)\n",
            "Requirement already satisfied: chardet<4,>=3.0.2 in /usr/local/lib/python3.6/dist-packages (from requests>=2.14.0->PyGithub) (3.0.4)\n",
            "Requirement already satisfied: idna<3,>=2.5 in /usr/local/lib/python3.6/dist-packages (from requests>=2.14.0->PyGithub) (2.10)\n",
            "Requirement already satisfied: urllib3!=1.25.0,!=1.25.1,<1.26,>=1.21.1 in /usr/local/lib/python3.6/dist-packages (from requests>=2.14.0->PyGithub) (1.24.3)\n",
            "Installing collected packages: deprecated, pyjwt, PyGithub\n",
            "Successfully installed PyGithub-1.53 deprecated-1.2.10 pyjwt-1.7.1\n"
          ],
          "name": "stdout"
        }
      ]
    },
    {
      "cell_type": "code",
      "metadata": {
        "id": "1nQc13K8eQn8",
        "colab_type": "code",
        "colab": {}
      },
      "source": [
        "from github import Github\n",
        "from collections import Counter"
      ],
      "execution_count": null,
      "outputs": []
    },
    {
      "cell_type": "markdown",
      "metadata": {
        "id": "Ivlr8pR6n2yP",
        "colab_type": "text"
      },
      "source": [
        "Получим все коммиты с помощью API"
      ]
    },
    {
      "cell_type": "code",
      "metadata": {
        "id": "Yl9EyHlveiJG",
        "colab_type": "code",
        "colab": {}
      },
      "source": [
        "g = Github()\n",
        "repo = g.get_repo(\"JetBrains/kotlin\")\n",
        "commits = repo.get_commits()"
      ],
      "execution_count": null,
      "outputs": []
    },
    {
      "cell_type": "markdown",
      "metadata": {
        "id": "08t9yz0en6og",
        "colab_type": "text"
      },
      "source": [
        "Посмотрим как выглядит объект коммита"
      ]
    },
    {
      "cell_type": "code",
      "metadata": {
        "id": "MuOFX1EJhQhM",
        "colab_type": "code",
        "colab": {
          "base_uri": "https://localhost:8080/",
          "height": 35
        },
        "outputId": "e36d4cfb-db5c-4254-866c-ff4d2fefe77d"
      },
      "source": [
        "a = commits.get_page(0)\n",
        "commit = a[0]\n",
        "commit"
      ],
      "execution_count": null,
      "outputs": [
        {
          "output_type": "execute_result",
          "data": {
            "text/plain": [
              "Commit(sha=\"36e62471256a4dbb483f0da4b4aa81d1a487ddce\")"
            ]
          },
          "metadata": {
            "tags": []
          },
          "execution_count": 10
        }
      ]
    },
    {
      "cell_type": "code",
      "metadata": {
        "id": "4CBnr3h7hQkI",
        "colab_type": "code",
        "colab": {
          "base_uri": "https://localhost:8080/",
          "height": 35
        },
        "outputId": "979f571b-4276-4188-85af-f6261406d26f"
      },
      "source": [
        "commit.commit.message"
      ],
      "execution_count": null,
      "outputs": [
        {
          "output_type": "execute_result",
          "data": {
            "application/vnd.google.colaboratory.intrinsic+json": {
              "type": "string"
            },
            "text/plain": [
              "'Add more details about bit shift operations #KT-41112'"
            ]
          },
          "metadata": {
            "tags": []
          },
          "execution_count": 12
        }
      ]
    },
    {
      "cell_type": "code",
      "metadata": {
        "id": "22Hthc8PhQmk",
        "colab_type": "code",
        "colab": {
          "base_uri": "https://localhost:8080/",
          "height": 35
        },
        "outputId": "d864f393-ebb4-44d2-cef5-935c8d8c92ed"
      },
      "source": [
        "len(a)"
      ],
      "execution_count": null,
      "outputs": [
        {
          "output_type": "execute_result",
          "data": {
            "text/plain": [
              "30"
            ]
          },
          "metadata": {
            "tags": []
          },
          "execution_count": 13
        }
      ]
    },
    {
      "cell_type": "markdown",
      "metadata": {
        "id": "s4SEAd0_oIMx",
        "colab_type": "text"
      },
      "source": [
        "Выше понятно как доставать сообщение из объекта коммита. Также коммиты выдаются по страницам. На странице 30 коммитов. Возьмем последние 100 комитов"
      ]
    },
    {
      "cell_type": "code",
      "metadata": {
        "id": "BbHdansOhQvD",
        "colab_type": "code",
        "colab": {}
      },
      "source": [
        "def get_last_100_commits(commits):\n",
        "  q = []\n",
        "  k = 0\n",
        "  while (len(q) < 100):\n",
        "    q += commits.get_page(k)\n",
        "    k+=1\n",
        "  return q[:100]"
      ],
      "execution_count": null,
      "outputs": []
    },
    {
      "cell_type": "code",
      "metadata": {
        "id": "CAcP5ktxexEb",
        "colab_type": "code",
        "colab": {}
      },
      "source": [
        "res = get_last_100_commits(commits)\n"
      ],
      "execution_count": null,
      "outputs": []
    },
    {
      "cell_type": "code",
      "metadata": {
        "id": "wNPEDd1xizfp",
        "colab_type": "code",
        "colab": {
          "base_uri": "https://localhost:8080/",
          "height": 35
        },
        "outputId": "3fdeee87-ae1e-4de2-a6d6-4e214366ea8a"
      },
      "source": [
        "len(res)"
      ],
      "execution_count": null,
      "outputs": [
        {
          "output_type": "execute_result",
          "data": {
            "text/plain": [
              "100"
            ]
          },
          "metadata": {
            "tags": []
          },
          "execution_count": 17
        }
      ]
    },
    {
      "cell_type": "markdown",
      "metadata": {
        "id": "YyG6IXp_oxwS",
        "colab_type": "text"
      },
      "source": [
        "Возьмем все слова из всех коммитов, разделенные по пробелу. (к некоторым словам присоединятся знаки препинания, это одно из допущений). И посчитаем сколько раз встречалось каждое слово с помощью Counter"
      ]
    },
    {
      "cell_type": "code",
      "metadata": {
        "id": "_yAthcSpizn4",
        "colab_type": "code",
        "colab": {}
      },
      "source": [
        "all_words = []\n",
        "\n",
        "for com in res:\n",
        "  all_words += com.commit.message.lower().split()"
      ],
      "execution_count": null,
      "outputs": []
    },
    {
      "cell_type": "code",
      "metadata": {
        "id": "76Cnw9uTmv0V",
        "colab_type": "code",
        "colab": {
          "base_uri": "https://localhost:8080/",
          "height": 35
        },
        "outputId": "2b3c4a9b-4b8e-4aef-e049-37de2c801fa4"
      },
      "source": [
        "len(all_words)"
      ],
      "execution_count": null,
      "outputs": [
        {
          "output_type": "execute_result",
          "data": {
            "text/plain": [
              "1448"
            ]
          },
          "metadata": {
            "tags": []
          },
          "execution_count": 45
        }
      ]
    },
    {
      "cell_type": "code",
      "metadata": {
        "id": "SzNMjtxXmv5G",
        "colab_type": "code",
        "colab": {}
      },
      "source": [
        "cnt = Counter(all_words)"
      ],
      "execution_count": null,
      "outputs": []
    },
    {
      "cell_type": "code",
      "metadata": {
        "id": "LA72bQwOmv9g",
        "colab_type": "code",
        "colab": {
          "base_uri": "https://localhost:8080/",
          "height": 537
        },
        "outputId": "b4f85c03-1b11-426c-82d2-025555592304"
      },
      "source": [
        "cnt.most_common(30)"
      ],
      "execution_count": null,
      "outputs": [
        {
          "output_type": "execute_result",
          "data": {
            "text/plain": [
              "[('the', 34),\n",
              " ('to', 34),\n",
              " ('for', 30),\n",
              " ('in', 28),\n",
              " ('of', 26),\n",
              " ('add', 21),\n",
              " ('fir', 16),\n",
              " ('with', 16),\n",
              " ('this', 15),\n",
              " ('and', 15),\n",
              " ('it', 14),\n",
              " ('remove', 14),\n",
              " ('[fir]', 14),\n",
              " ('is', 13),\n",
              " ('type', 13),\n",
              " ('test', 12),\n",
              " ('not', 12),\n",
              " ('fixed', 12),\n",
              " ('[ulc]', 12),\n",
              " ('fix', 11),\n",
              " ('from', 10),\n",
              " ('types', 10),\n",
              " ('a', 9),\n",
              " ('captured', 9),\n",
              " ('return', 8),\n",
              " ('jvm', 7),\n",
              " ('as', 7),\n",
              " ('annotation', 7),\n",
              " ('when', 7),\n",
              " ('tests', 7)]"
            ]
          },
          "metadata": {
            "tags": []
          },
          "execution_count": 47
        }
      ]
    },
    {
      "cell_type": "code",
      "metadata": {
        "id": "BSojz9IEmv3X",
        "colab_type": "code",
        "colab": {}
      },
      "source": [
        ""
      ],
      "execution_count": null,
      "outputs": []
    },
    {
      "cell_type": "code",
      "metadata": {
        "id": "qtsvEwJNiZJA",
        "colab_type": "code",
        "colab": {}
      },
      "source": [
        ""
      ],
      "execution_count": null,
      "outputs": []
    }
  ]
}